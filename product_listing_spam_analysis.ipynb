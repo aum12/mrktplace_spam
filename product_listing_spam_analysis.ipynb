{
 "cells": [
  {
   "cell_type": "markdown",
   "metadata": {},
   "source": [
    "## Online Marketplace App Challenge: Detecting Spam in Product Listings\n",
    "Summit Bhalla   \n",
    "Walkthrough of bag-of-words approach"
   ]
  },
  {
   "cell_type": "code",
   "execution_count": 1,
   "metadata": {
    "collapsed": true
   },
   "outputs": [],
   "source": [
    "import pandas as pd\n",
    "import numpy as np\n",
    "import cPickle\n",
    "import matplotlib.pyplot as plt\n",
    "%matplotlib inline"
   ]
  },
  {
   "cell_type": "code",
   "execution_count": 2,
   "metadata": {
    "collapsed": true
   },
   "outputs": [],
   "source": [
    "import os.path\n",
    "\n",
    "file_path = os.path.dirname(os.path.realpath('__file__'))\n",
    "raw_train = os.path.join(file_path,'data/train_set.csv')\n",
    "raw_test = os.path.join(file_path, 'data/test_set.csv')"
   ]
  },
  {
   "cell_type": "markdown",
   "metadata": {},
   "source": [
    "## Data Exploration & Cleaning\n",
    "_____\n",
    "- First look at the raw data in a beautified df :)"
   ]
  },
  {
   "cell_type": "code",
   "execution_count": null,
   "metadata": {
    "collapsed": true,
    "scrolled": true
   },
   "outputs": [],
   "source": [
    "df = pd.read_csv(raw_train)\n",
    "df.head()"
   ]
  },
  {
   "cell_type": "markdown",
   "metadata": {
    "collapsed": true
   },
   "source": [
    "** ----Output Truncated for Data Privacy Purposes---- **"
   ]
  },
  {
   "cell_type": "markdown",
   "metadata": {},
   "source": [
    "### Initial observations:\n",
    "- Won't need the first index column as the DF will manage indices\n",
    "- (Obviously) the title and description will be predictive of spam / ham classification. My first impression is that the other fields hold less predictive power...\n",
    "- Immediately see missing values in the first entry. Will need to look for other missing values...\n",
    "- Text fields will need to be encoded in utf-8. Will only include text that is part of the ascii character set."
   ]
  },
  {
   "cell_type": "code",
   "execution_count": 4,
   "metadata": {},
   "outputs": [
    {
     "data": {
      "text/plain": [
       "Unnamed: 0        0\n",
       "product_id        1\n",
       "seller_id         1\n",
       "title             1\n",
       "description       1\n",
       "meet_up        7398\n",
       "mailing        7398\n",
       "condition      8417\n",
       "price             1\n",
       "class             1\n",
       "dtype: int64"
      ]
     },
     "execution_count": 4,
     "metadata": {},
     "output_type": "execute_result"
    }
   ],
   "source": [
    "null_features = df.isnull().sum()\n",
    "null_features"
   ]
  },
  {
   "cell_type": "markdown",
   "metadata": {},
   "source": [
    "- There's at least one value that is null in each of the columns. That sucks.\n",
    "- There's a high number of nulls for the meet_up, mailing and condition features."
   ]
  },
  {
   "cell_type": "code",
   "execution_count": 5,
   "metadata": {},
   "outputs": [
    {
     "data": {
      "text/html": [
       "<div>\n",
       "<table border=\"1\" class=\"dataframe\">\n",
       "  <thead>\n",
       "    <tr style=\"text-align: right;\">\n",
       "      <th></th>\n",
       "      <th>Unnamed: 0</th>\n",
       "      <th>product_id</th>\n",
       "      <th>seller_id</th>\n",
       "      <th>title</th>\n",
       "      <th>description</th>\n",
       "      <th>meet_up</th>\n",
       "      <th>mailing</th>\n",
       "      <th>condition</th>\n",
       "      <th>price</th>\n",
       "      <th>class</th>\n",
       "    </tr>\n",
       "  </thead>\n",
       "  <tbody>\n",
       "    <tr>\n",
       "      <th>655</th>\n",
       "      <td>656</td>\n",
       "      <td>NaN</td>\n",
       "      <td>NaN</td>\n",
       "      <td>NaN</td>\n",
       "      <td>NaN</td>\n",
       "      <td>NaN</td>\n",
       "      <td>NaN</td>\n",
       "      <td>NaN</td>\n",
       "      <td>NaN</td>\n",
       "      <td>NaN</td>\n",
       "    </tr>\n",
       "  </tbody>\n",
       "</table>\n",
       "</div>"
      ],
      "text/plain": [
       "     Unnamed: 0  product_id  seller_id title description meet_up mailing  \\\n",
       "655         656         NaN        NaN   NaN         NaN     NaN     NaN   \n",
       "\n",
       "    condition  price  class  \n",
       "655       NaN    NaN    NaN  "
      ]
     },
     "execution_count": 5,
     "metadata": {},
     "output_type": "execute_result"
    }
   ],
   "source": [
    "df[df.product_id.isnull()]"
   ]
  },
  {
   "cell_type": "code",
   "execution_count": 6,
   "metadata": {
    "scrolled": true
   },
   "outputs": [
    {
     "data": {
      "text/html": [
       "<div>\n",
       "<table border=\"1\" class=\"dataframe\">\n",
       "  <thead>\n",
       "    <tr style=\"text-align: right;\">\n",
       "      <th></th>\n",
       "      <th>Absolute Empty Values</th>\n",
       "      <th>Percentage Empty</th>\n",
       "    </tr>\n",
       "  </thead>\n",
       "  <tbody>\n",
       "    <tr>\n",
       "      <th>Unnamed: 0</th>\n",
       "      <td>0</td>\n",
       "      <td>0.000000</td>\n",
       "    </tr>\n",
       "    <tr>\n",
       "      <th>product_id</th>\n",
       "      <td>1</td>\n",
       "      <td>0.008696</td>\n",
       "    </tr>\n",
       "    <tr>\n",
       "      <th>seller_id</th>\n",
       "      <td>1</td>\n",
       "      <td>0.008696</td>\n",
       "    </tr>\n",
       "    <tr>\n",
       "      <th>title</th>\n",
       "      <td>1</td>\n",
       "      <td>0.008696</td>\n",
       "    </tr>\n",
       "    <tr>\n",
       "      <th>description</th>\n",
       "      <td>1</td>\n",
       "      <td>0.008696</td>\n",
       "    </tr>\n",
       "    <tr>\n",
       "      <th>meet_up</th>\n",
       "      <td>7398</td>\n",
       "      <td>64.336029</td>\n",
       "    </tr>\n",
       "    <tr>\n",
       "      <th>mailing</th>\n",
       "      <td>7398</td>\n",
       "      <td>64.336029</td>\n",
       "    </tr>\n",
       "    <tr>\n",
       "      <th>condition</th>\n",
       "      <td>8417</td>\n",
       "      <td>73.197669</td>\n",
       "    </tr>\n",
       "    <tr>\n",
       "      <th>price</th>\n",
       "      <td>1</td>\n",
       "      <td>0.008696</td>\n",
       "    </tr>\n",
       "    <tr>\n",
       "      <th>class</th>\n",
       "      <td>1</td>\n",
       "      <td>0.008696</td>\n",
       "    </tr>\n",
       "  </tbody>\n",
       "</table>\n",
       "</div>"
      ],
      "text/plain": [
       "             Absolute Empty Values  Percentage Empty\n",
       "Unnamed: 0                       0          0.000000\n",
       "product_id                       1          0.008696\n",
       "seller_id                        1          0.008696\n",
       "title                            1          0.008696\n",
       "description                      1          0.008696\n",
       "meet_up                       7398         64.336029\n",
       "mailing                       7398         64.336029\n",
       "condition                     8417         73.197669\n",
       "price                            1          0.008696\n",
       "class                            1          0.008696"
      ]
     },
     "execution_count": 6,
     "metadata": {},
     "output_type": "execute_result"
    }
   ],
   "source": [
    "#remove empty column\n",
    "df = df[df.product_id.notnull()]\n",
    "\n",
    "null_stats = pd.concat([null_features, null_features/len(df.index)*100], axis=1)\n",
    "null_stats.columns = ['Absolute Empty Values', 'Percentage Empty']\n",
    "null_stats"
   ]
  },
  {
   "cell_type": "markdown",
   "metadata": {},
   "source": [
    "- Thankfully there was only one rogue empty column which was removed. Order is now restored.\n",
    "- The proportion of empty values in fields: 'meet_up', 'mailing' and 'condition' is too high to be relied upon for information. It'll only contribute noise to our model so we'll drop these features.\n",
    "-----\n",
    "#### We'll now use these observations to setup our training / cross-validation dataset"
   ]
  },
  {
   "cell_type": "code",
   "execution_count": 7,
   "metadata": {
    "collapsed": true
   },
   "outputs": [],
   "source": [
    "def clean_input(csv_path):\n",
    "    \n",
    "    include_cols = ['product_id','seller_id','title','description','price','class']\n",
    "    data = pd.read_csv(csv_path, usecols = include_cols, encoding = \"ISO-8859-1\")\n",
    "\n",
    "    #remove empty rows (based on null product_id)\n",
    "    data = data[data.product_id.notnull()]\n",
    "\n",
    "    # update title and description fields to include ascii characters\n",
    "    text_fields = ['title','description']\n",
    "    data[text_fields] = data[text_fields].applymap(lambda text: text.encode('ascii','ignore').decode('ascii'))\n",
    "\n",
    "    #random shuffle of rows within the training set (redistribute ordering of spam/ham examples)\n",
    "    shuffled = data.iloc[np.random.permutation(len(data))]\n",
    "    data = shuffled.reset_index(drop=True)\n",
    "    return data\n",
    "\n",
    "traincv = clean_input(raw_train)"
   ]
  },
  {
   "cell_type": "markdown",
   "metadata": {},
   "source": [
    "## Feature Extraction\n",
    "----\n",
    "- Now that we have clean training data, we'll now explore if additional features (of value) can be extracted \n",
    "- First thought is description length..."
   ]
  },
  {
   "cell_type": "code",
   "execution_count": 8,
   "metadata": {
    "scrolled": true
   },
   "outputs": [
    {
     "data": {
      "image/png": "[encoded data removed]",
      "text/plain": [
       "<matplotlib.figure.Figure at 0x1166d0e50>"
      ]
     },
     "metadata": {},
     "output_type": "display_data"
    }
   ],
   "source": [
    "traincv['desc_length'] = traincv['description'].map(lambda text: len(text))\n",
    "_ = traincv.boxplot(vert=False, column=['desc_length'], by=['class'], return_type='axes',figsize=(10,5))\n"
   ]
  },
  {
   "cell_type": "code",
   "execution_count": 9,
   "metadata": {},
   "outputs": [
    {
     "data": {
      "text/plain": [
       "class       \n",
       "0      count    10218.000000\n",
       "       mean       278.841946\n",
       "       std        283.720245\n",
       "       min          1.000000\n",
       "       25%         95.000000\n",
       "       50%        185.000000\n",
       "       75%        341.750000\n",
       "       max       2043.000000\n",
       "1      count     1281.000000\n",
       "       mean      1681.684621\n",
       "       std       2089.110528\n",
       "       min         57.000000\n",
       "       25%        530.000000\n",
       "       50%       1012.000000\n",
       "       75%       1829.000000\n",
       "       max      12561.000000\n",
       "dtype: float64"
      ]
     },
     "execution_count": 9,
     "metadata": {},
     "output_type": "execute_result"
    }
   ],
   "source": [
    "traincv.groupby('class')['desc_length'].describe()"
   ]
  },
  {
   "cell_type": "markdown",
   "metadata": {},
   "source": [
    "More observations:\n",
    "- Skewed classes in training set (1281 spam vs 102018 ham examples)\n",
    "- The character length for spam listings is higher with much wider spread. "
   ]
  },
  {
   "cell_type": "code",
   "execution_count": null,
   "metadata": {
    "collapsed": true,
    "scrolled": false
   },
   "outputs": [],
   "source": [
    "traincv[traincv['class'] == 1].groupby(['seller_id','class']).size().sort_values(ascending=False)"
   ]
  },
  {
   "cell_type": "markdown",
   "metadata": {},
   "source": [
    "** ----Output Truncated for Data Privacy Purposes---- **"
   ]
  },
  {
   "cell_type": "markdown",
   "metadata": {},
   "source": [
    "#### My Feature Extraction Wish List (things I would explore further given more time)...\n",
    "- Explore repeat users who spam (seems to be quite a few people - see cell above)\n",
    "- Look at price distribution, there are a number of outliers (large price values) classified as spam.\n",
    "    - Would also normalize price values to 0 mean and unit variance\n",
    "- Seems like most \"tags\" are at the end of description messages. Find a way to capture this information.\n",
    "\n",
    "For now, I'll move on..."
   ]
  },
  {
   "cell_type": "markdown",
   "metadata": {},
   "source": [
    "### Text Feature Extraction\n",
    "---------\n",
    "-  We'll try modeling the binary classifier with a bag-of-words approach using the term frequency-inverse document frequency (TF-IDF) feature representation. \n",
    "- *Aside*: It's worth noting the TF-IDF feature vector ignores word orders that carry syntactic and semantic relationships. An RNN model could be explored here, but might not be required given structure of spam text examples and the small training dataset. \n",
    "- We'll use scikit learn's Pipeline library to extract text features (n-grams) from input and (evenually) combine features for classification.\n",
    "- We'll do this now so it'll be easier for us to swap text feature extractors, feature transformations and classifiers.\n",
    "- It'll also be more advantaguous during hyperparameter tuning"
   ]
  },
  {
   "cell_type": "code",
   "execution_count": 21,
   "metadata": {
    "collapsed": true
   },
   "outputs": [],
   "source": [
    "from sklearn.feature_extraction.text import CountVectorizer, TfidfTransformer\n",
    "from sklearn.naive_bayes import MultinomialNB, BernoulliNB\n",
    "from sklearn.linear_model import SGDClassifier\n",
    "from sklearn.grid_search import GridSearchCV\n",
    "from sklearn.pipeline import Pipeline\n",
    "from sklearn.metrics import confusion_matrix, roc_auc_score, classification_report\n",
    "from sklearn.cross_validation import KFold"
   ]
  },
  {
   "cell_type": "code",
   "execution_count": 13,
   "metadata": {
    "collapsed": true
   },
   "outputs": [],
   "source": [
    "# creating pipeline of text feature extractors, transformers for classification\n",
    "pipeline = Pipeline([\n",
    "    ('vectorizer',  CountVectorizer()),\n",
    "    ('tfidf',  TfidfTransformer()),\n",
    "    #('clf',  MultinomialNB()) ])\n",
    "    ('clf',  SGDClassifier()) ])"
   ]
  },
  {
   "cell_type": "markdown",
   "metadata": {},
   "source": [
    "## Model Training & Evaluation\n",
    "---------\n",
    "- Since the number of available training data is low, we'll avoid using using a hold-out validation set and go with k-fold cross-validation\n",
    "- Selecting k=7 as the validation fold would equal ~15% of training set for each k iterations. Would like to have higher variance to start with (especially with a simple classifier) and adjust accordingly. \n",
    "-------\n",
    "- First train/CV run using the product listing description text as feature (unigram) and linear classifier"
   ]
  },
  {
   "cell_type": "code",
   "execution_count": 14,
   "metadata": {},
   "outputs": [
    {
     "name": "stdout",
     "output_type": "stream",
     "text": [
      "[fold 0] ROC AUC Score: 0.89992\n",
      "[fold 1] ROC AUC Score: 0.85355\n",
      "[fold 2] ROC AUC Score: 0.85570\n",
      "[fold 3] ROC AUC Score: 0.86493\n",
      "[fold 4] ROC AUC Score: 0.85555\n",
      "[fold 5] ROC AUC Score: 0.86817\n",
      "[fold 6] ROC AUC Score: 0.86620\n",
      "\n",
      "Total listings classified: 11499\n",
      "Score: 0.86629\n",
      "Confusion matrix:\n",
      "[[10137    81]\n",
      " [  332   949]]\n"
     ]
    }
   ],
   "source": [
    "k_fold_cv = KFold(n_folds=7, n=len(traincv))\n",
    "scores = []\n",
    "confusion = np.array([[0, 0], [0, 0]])\n",
    "for k, (train_idx, val_idx) in enumerate(k_fold_cv):\n",
    "    # training folds to fit model\n",
    "    train_x = traincv.iloc[train_idx]['description'].values\n",
    "    train_y = traincv.iloc[train_idx]['class'].values\n",
    "    # validation fold to test model\n",
    "    val_x = traincv.iloc[val_idx]['description'].values\n",
    "    val_y = traincv.iloc[val_idx]['class'].values\n",
    "\n",
    "    pipeline.fit(train_x, train_y)\n",
    "    preds = pipeline.predict(val_x)\n",
    "\n",
    "    confusion += confusion_matrix(val_y, preds)\n",
    "    score = roc_auc_score(val_y, preds)\n",
    "    scores.append(score)\n",
    "    print(\"[fold {0}] ROC AUC Score: {1:.5f}\".format(k,score))\n",
    "\n",
    "print('\\nTotal listings classified: {0}'.format(len(traincv)) )\n",
    "print('Score: {0:.5f}'.format(sum(scores)/float(len(scores))) )\n",
    "print('Confusion matrix:')\n",
    "print(confusion)\n"
   ]
  },
  {
   "cell_type": "markdown",
   "metadata": {},
   "source": [
    "Observations:\n",
    "- The result was encouraging considering: \n",
    "    - Simple bag of words model captures limited word orders which carry syntactic and semantic relationships.  \n",
    "    - Only used one feature input - the *description* text field\n",
    "    - Using default hyperparameter values.  \n",
    "- Negative: There is a high proportion of false negatives (ham predictions that are actually spam). This will impact search relevancy.\n",
    "---------\n",
    "### Some important thoughts on Model Evaluation (in the context of the marketplace)\n",
    "- Low recall, or sensitivity, is undesired as it would affect the marketplace buyers' search relevancy (by returning unintended spam messages to buyers' search results). \n",
    "- However, it can be argued that **precision is more important to improving user experience** (avoiding false positives - blocking seller listings that are actually ham). We wouldn't want to block legitimate listings, just to stop others from doing so. Perhaps, we should prioritize what's most important from a marketplace / company standpoint...\n",
    "------\n",
    "- For this exercise, I'll be using the requested ROC AUC evaluation metric. However, considering we have a skewed dataset and the points made above, it would be advantagous to leverage the *precision-recall curve*. \n",
    "- In particular, we can look for the best classifiers with *max precision(r)* where *r = recall is \"acceptably high\" (eg. > 0.85)*. In other words, **if we're to prioritize the buyers' user experience (through reduction of false negatives), let's select a classifier threshold with the highest precision at \"acceptably high\" recall value.**\n",
    "- If this explanation is too complicated, we can simplify things and use the F2 score as an evaluation metric :)\n",
    "- That said, the ROC AUC metric is good starting point for an assignment like this\n",
    "---------\n",
    "- **Note:** Evaluation metrics and its prioritization is dependant on how the model would be rolled out. Would model inference be executed during search retrieval? Or when a user submits a listing? These details would affect how we would evaluate the model's performance.\n",
    "- It's also worth noting the problem could be framed differently than a binary decision problem. A ranking mechinism could be deployed (based on the posting's clarity and conciseness). "
   ]
  },
  {
   "cell_type": "markdown",
   "metadata": {},
   "source": [
    "## Hyper-parameter Tuning\n",
    "-------\n",
    "- We performed cross-validation using our pipeline with no changes to hyperparameters\n",
    "- We'll use scikit learn's grid search library so we can train and evaluate\n",
    "- Grid search CV also provides cross-validation support for free. We'll use the default 3 folds to minimize search time\n",
    "- Note: searching over a subset of parameters values (previously searched over all, but did not improve results given higher model complexity)"
   ]
  },
  {
   "cell_type": "code",
   "execution_count": 15,
   "metadata": {
    "collapsed": true
   },
   "outputs": [],
   "source": [
    "parameters = {\n",
    "    'vectorizer__max_df': (0.5, 0.75, 1.0),\n",
    "    #'vect__max_features': (None, 5000, 10000, 50000),\n",
    "    'vectorizer__ngram_range': ((1, 1), (1, 2)),  # unigrams or bigrams\n",
    "    #'tfidf__use_idf': (True, False),\n",
    "    #'tfidf__norm': ('l1', 'l2'),\n",
    "    'clf__alpha': (0.00001, 0.000001),\n",
    "    'clf__penalty': ('l2', 'elasticnet'),\n",
    "    'clf__n_iter': (10, 50, 80),\n",
    "}"
   ]
  },
  {
   "cell_type": "code",
   "execution_count": 16,
   "metadata": {
    "scrolled": false
   },
   "outputs": [
    {
     "name": "stdout",
     "output_type": "stream",
     "text": [
      "Performing grid search...\n",
      "('pipeline:', ['vectorizer', 'tfidf', 'clf'])\n",
      "Fitting 3 folds for each of 72 candidates, totalling 216 fits\n"
     ]
    },
    {
     "name": "stderr",
     "output_type": "stream",
     "text": [
      "[Parallel(n_jobs=-1)]: Done  42 tasks      | elapsed:   40.8s\n",
      "[Parallel(n_jobs=-1)]: Done 192 tasks      | elapsed:  3.6min\n",
      "[Parallel(n_jobs=-1)]: Done 216 out of 216 | elapsed:  4.2min finished\n"
     ]
    },
    {
     "name": "stdout",
     "output_type": "stream",
     "text": [
      "Best score: 0.968\n",
      "Best parameters set:\n",
      "\tclf__alpha: 1e-05\n",
      "\tclf__n_iter: 50\n",
      "\tclf__penalty: 'elasticnet'\n",
      "\tvectorizer__max_df: 0.75\n",
      "\tvectorizer__ngram_range: (1, 2)\n"
     ]
    }
   ],
   "source": [
    "spam_model = GridSearchCV(pipeline, parameters, scoring='roc_auc', n_jobs=-1, verbose=1)\n",
    "\n",
    "print(\"Performing grid search...\")\n",
    "print(\"pipeline:\", [name for name, _ in pipeline.steps])\n",
    "\n",
    "train_x = traincv.description.values\n",
    "train_y = traincv['class'].values\n",
    "spam_model.fit(train_x, train_y)\n",
    "\n",
    "print(\"Best score: %0.3f\" % spam_model.best_score_)\n",
    "print(\"Best parameters set:\")\n",
    "best_parameters = spam_model.best_estimator_.get_params()\n",
    "for param_name in sorted(parameters.keys()):\n",
    "    print(\"\\t%s: %r\" % (param_name, best_parameters[param_name]))\n"
   ]
  },
  {
   "cell_type": "code",
   "execution_count": 17,
   "metadata": {},
   "outputs": [
    {
     "data": {
      "text/plain": [
       "array([[10199,    19],\n",
       "       [   25,  1256]])"
      ]
     },
     "execution_count": 17,
     "metadata": {},
     "output_type": "execute_result"
    }
   ],
   "source": [
    "#confusion matrix on training dataset\n",
    "predictions = spam_model.predict(train_x)\n",
    "cm = confusion_matrix(train_y, predictions)\n",
    "cm"
   ]
  },
  {
   "cell_type": "markdown",
   "metadata": {},
   "source": [
    "#### Let's look at an example of training error"
   ]
  },
  {
   "cell_type": "code",
   "execution_count": null,
   "metadata": {
    "collapsed": true
   },
   "outputs": [],
   "source": [
    "error = train_x[np.not_equal(train_y,predictions)]\n",
    "print(\"random error example: %s \" % (np.random.choice(error,1)[0]) )"
   ]
  },
  {
   "cell_type": "markdown",
   "metadata": {},
   "source": [
    "** ----Output Truncated for Data Privacy Purposes---- **"
   ]
  },
  {
   "cell_type": "markdown",
   "metadata": {},
   "source": [
    "Quick observations:\n",
    "- Combining other features to the model could improve performance\n",
    "    - As seen above, incorporating description length could help\n",
    "    - Increase weighting on comma or hashtag characters\n",
    "\n",
    "### (Immediate) Further Improvements:\n",
    "- Include other features (title, price, description length, misspellings) into the model pipeline. \n",
    "    - This can be achieved using FeatureUnions and Custom Transformers in scikit learn.\n",
    "        - Example: Title n-gram counts to be fed into tf-idf transformer, and (normalized) price, desc_length etc. fed directly to the linear classifier. \n",
    "- Examine whether model is overfitting (first with deviance plots)\n",
    "- **Due to time constraints, I'll leave this as a future exercise.**"
   ]
  },
  {
   "cell_type": "markdown",
   "metadata": {},
   "source": [
    "## Scoring Model Predictions on Test Set"
   ]
  },
  {
   "cell_type": "code",
   "execution_count": 19,
   "metadata": {
    "collapsed": true
   },
   "outputs": [],
   "source": [
    "# input test_set csv for cleaning\n",
    "test = clean_input(raw_test)\n",
    "test_x = test.description.values\n",
    "test_y = test['class'].values"
   ]
  },
  {
   "cell_type": "code",
   "execution_count": 22,
   "metadata": {},
   "outputs": [
    {
     "name": "stdout",
     "output_type": "stream",
     "text": [
      "Test ROC AUC score: 0.89907\n",
      "Classifier Statistics:\n",
      "\n",
      "             precision    recall  f1-score   support\n",
      "\n",
      "          0       0.95      0.97      0.96      1423\n",
      "          1       0.90      0.83      0.86       407\n",
      "\n",
      "avg / total       0.94      0.94      0.94      1830\n",
      "\n"
     ]
    }
   ],
   "source": [
    "# make predictions on test set using best model from gs\n",
    "test_preds = spam_model.predict(test_x)\n",
    "test_score = roc_auc_score(test_y, test_preds)\n",
    "print(\"Test ROC AUC score: %0.5f\" % test_score)\n",
    "print(\"Classifier Statistics:\\n\")\n",
    "print(classification_report(test_y, test_preds))"
   ]
  },
  {
   "cell_type": "markdown",
   "metadata": {},
   "source": [
    "## Thoughts on Production Deployments\n",
    "----\n",
    "- Can serialize the model to disk for use in production environments (see cell below)\n",
    "- Would have to consider model monitoring (capturing classifier stats logs, required notifications etc.)\n",
    "- Monitoring *\"distribution drift\"* \n",
    "    - If users catch on to filtering techniques, the distribution of features could change and hence the model would need to be updated accordingly. \n",
    "    - If the distribution changes rapidly, then perhaps an online learning model would be appropriate (instead of offline learning, online inference model as implemented here).\n",
    "- Determine reliability requirements such as fail-over, redundancy, load-balancing etc."
   ]
  },
  {
   "cell_type": "code",
   "execution_count": 24,
   "metadata": {
    "collapsed": true
   },
   "outputs": [],
   "source": [
    "model_file = os.path.join(file_path,'model/spam_predictor.pickle')\n",
    "\n",
    "with open(model_file, 'wb') as fout:\n",
    "    cPickle.dump(spam_model, fout)"
   ]
  }
 ],
 "metadata": {
  "kernelspec": {
   "display_name": "Python 2",
   "language": "python",
   "name": "python2"
  },
  "language_info": {
   "codemirror_mode": {
    "name": "ipython",
    "version": 2
   },
   "file_extension": ".py",
   "mimetype": "text/x-python",
   "name": "python",
   "nbconvert_exporter": "python",
   "pygments_lexer": "ipython2",
   "version": "2.7.12"
  }
 },
 "nbformat": 4,
 "nbformat_minor": 1
}
